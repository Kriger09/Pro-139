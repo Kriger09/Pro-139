{
  "nbformat": 4,
  "nbformat_minor": 0,
  "metadata": {
    "colab": {
      "name": "PRO-C139-PP.ipynb",
      "provenance": [],
      "collapsed_sections": []
    },
    "kernelspec": {
      "name": "python3",
      "display_name": "Python 3"
    }
  },
  "cells": [
    {
      "cell_type": "code",
      "metadata": {
        "id": "KBuUVGFPShx3"
      },
      "source": [
        "# Instalar el módulo de kaggle.\n",
        "!pip install kaggle"
      ],
      "execution_count": null,
      "outputs": []
    },
    {
      "cell_type": "code",
      "metadata": {
        "id": "7uCaPHSHSmZy"
      },
      "source": [
        "# Subir el archivo kaggle.json.\n",
        "from google.colab import files\n",
        "files.upload()"
      ],
      "execution_count": null,
      "outputs": []
    },
    {
      "cell_type": "code",
      "metadata": {
        "id": "hPVfdK4fSpeh"
      },
      "source": [
        "# Crear un directorio oculto, copiar el archivo kaggle.json en él y cambiar sus permisos.\n",
        "!mkdir -p ~/.kaggle\n",
        "!cp kaggle.json ~/.kaggle/\n",
        "\n",
        "!chmod 600 ~/.kaggle/kaggle.json"
      ],
      "execution_count": null,
      "outputs": []
    },
    {
      "cell_type": "code",
      "metadata": {
        "id": "9i41QM4PSvka"
      },
      "source": [
        "# Descargar el conjunto de datos.\n",
        "!kaggle datasets download -d gspmoreira/articles-sharing-reading-from-cit-deskdrop"
      ],
      "execution_count": null,
      "outputs": []
    },
    {
      "cell_type": "code",
      "metadata": {
        "id": "S-JRVbOnS0wl"
      },
      "source": [
        "# Enlistar todos los archivos en el directorio de trabajo.\n",
        "!ls"
      ],
      "execution_count": null,
      "outputs": []
    },
    {
      "cell_type": "code",
      "metadata": {
        "id": "1lUtFnRwS4R_"
      },
      "source": [
        "# Descomprimir los archivos descargados.\n",
        "!unzip articles-sharing-reading-from-cit-deskdrop.zip"
      ],
      "execution_count": null,
      "outputs": []
    },
    {
      "cell_type": "code",
      "metadata": {
        "id": "NgjGHZN2TBHF"
      },
      "source": [
        "# Crear un DataFrame.\n",
        "import pandas as pd \n",
        "import numpy as np \n",
        "\n",
        "df1=pd.read_csv('shared_articles.csv')\n",
        "df2=pd.read_csv('users_interactions.csv')"
      ],
      "execution_count": null,
      "outputs": []
    },
    {
      "cell_type": "code",
      "metadata": {
        "id": "xxnUCAwxTcX9"
      },
      "source": [
        "# Imprimir las primeras 5 filas del primer DataFrame.\n",
        "df1.head()"
      ],
      "execution_count": null,
      "outputs": []
    },
    {
      "cell_type": "code",
      "metadata": {
        "id": "syZIBCAvThKY"
      },
      "source": [
        "# Imprimir las primeras 5 filas del segundo DataFrame.\n",
        "df2.head()"
      ],
      "execution_count": null,
      "outputs": []
    },
    {
      "cell_type": "code",
      "source": [
        "# Información del primer DataFrame.\n",
        "df1.info()"
      ],
      "metadata": {
        "id": "EH15mgev5fea"
      },
      "execution_count": null,
      "outputs": []
    },
    {
      "cell_type": "code",
      "source": [
        "# Información del segundo DataFrame.\n",
        "df2.info()"
      ],
      "metadata": {
        "id": "sH-ryJxk5fy9"
      },
      "execution_count": null,
      "outputs": []
    },
    {
      "cell_type": "markdown",
      "metadata": {
        "id": "eq8SWYlqsS5Y"
      },
      "source": [
        "# Filtrado demográfico"
      ]
    },
    {
      "cell_type": "code",
      "source": [
        "# Imprimir el título y el tipo de evento de los primeros 10 artículos.\n",
        "df1[['title', 'eventType']].head(10)"
      ],
      "metadata": {
        "id": "l3i-xQB8FTs7"
      },
      "execution_count": null,
      "outputs": []
    },
    {
      "cell_type": "code",
      "metadata": {
        "id": "B2XksQoGTmWN"
      },
      "source": [
        "# Mantener las filas y columnas con un tipo de evento como 'CONTENT SHARED' - (contenido compartido)."
      ],
      "execution_count": null,
      "outputs": []
    },
    {
      "cell_type": "code",
      "metadata": {
        "id": "U1QkCKKbTqyD"
      },
      "source": [
        "# Imprimir la forma para verificar. "
      ],
      "execution_count": null,
      "outputs": []
    },
    {
      "cell_type": "code",
      "metadata": {
        "id": "14un72B3tag-"
      },
      "source": [
        "# Encontrar el total de eventos. "
      ],
      "execution_count": null,
      "outputs": []
    },
    {
      "cell_type": "code",
      "metadata": {
        "id": "KkvN0xwAegWz"
      },
      "source": [
        "# Ordenar el DataFrame con base en la columna total_events."
      ],
      "execution_count": null,
      "outputs": []
    },
    {
      "cell_type": "code",
      "metadata": {
        "id": "MhwJpf6Gh2bE"
      },
      "source": [
        "# Imprimir los primeros 10 artículos con el nombre del título y el total de eventos."
      ],
      "execution_count": null,
      "outputs": []
    }
  ]
}